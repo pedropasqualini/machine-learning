{
 "cells": [
  {
   "cell_type": "code",
   "execution_count": null,
   "id": "9ef554b7-a8e9-43d1-8923-16e7942c38f7",
   "metadata": {},
   "outputs": [],
   "source": [
    "#!/usr/bin/python\n",
    "# -*- encoding: iso-8859-1 -*-\n",
    "\n",
    "import sys\n",
    "import numpy as np\n",
    "from sklearn.neighbors import KNeighborsClassifier\n",
    "from sklearn.metrics import confusion_matrix\n",
    "from sklearn.metrics import classification_report\n",
    "from sklearn import preprocessing\n",
    "from sklearn.model_selection import train_test_split\n",
    "from sklearn import preprocessing\n",
    "\n",
    "\n",
    "def main(fname):\n",
    "\n",
    "        # loads data\n",
    "        print (\"Loading data...\")\n",
    "        data = np.loadtxt(fname)\n",
    "        X_data = data[:, 1:]\n",
    "        y_data = data[:,0]\n",
    "\n",
    "        print (\"Spliting data...\")\n",
    "        X_train, X_test, y_train, y_test =  train_test_split(X_data, y_data, test_size=0.2, random_state = 5)\n",
    "\n",
    "        #scaler = preprocessing.MinMaxScaler()\n",
    "        #X_train = scaler.fit_transform(X_train)\n",
    "        #X_test = scaler.fit_transform(X_test)\n",
    "\n",
    "        # cria um kNN\n",
    "        neigh = KNeighborsClassifier(n_neighbors=3, metric='euclidean')\n",
    "\n",
    "        print ('Fitting knn')\n",
    "        neigh.fit(X_train, y_train)\n",
    "\n",
    "        # predicao do classificador\n",
    "        print ('Predicting...')\n",
    "        y_pred = neigh.predict(X_test)\n",
    "\n",
    "        # mostra o resultado do classificador na base de teste\n",
    "        print ('Accuracy: ',  neigh.score(X_test, y_test))\n",
    "\n",
    "        # cria a matriz de confusao\n",
    "        cm = confusion_matrix(y_test, y_pred)\n",
    "        print (cm)\n",
    "        print(classification_report(y_test, y_pred))\n",
    "\n",
    "\n",
    "if __name__ == \"__main__\":\n",
    "        if len(sys.argv) != 2:\n",
    "                sys.exit(\"Use: knn.py <file>\")\n",
    "\n",
    "        main(sys.argv[1])\n",
    "\n",
    "\n"
   ]
  }
 ],
 "metadata": {
  "kernelspec": {
   "display_name": "Python 3 (ipykernel)",
   "language": "python",
   "name": "python3"
  },
  "language_info": {
   "codemirror_mode": {
    "name": "ipython",
    "version": 3
   },
   "file_extension": ".py",
   "mimetype": "text/x-python",
   "name": "python",
   "nbconvert_exporter": "python",
   "pygments_lexer": "ipython3",
   "version": "3.9.2"
  }
 },
 "nbformat": 4,
 "nbformat_minor": 5
}
