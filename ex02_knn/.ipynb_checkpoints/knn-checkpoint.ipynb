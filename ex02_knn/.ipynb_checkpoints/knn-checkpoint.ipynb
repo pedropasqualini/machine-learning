{
 "cells": [
  {
   "cell_type": "code",
   "execution_count": 514,
   "metadata": {},
   "outputs": [],
   "source": [
    "#!/usr/bin/python\n",
    "# -*- encoding: iso-8859-1 -*-\n",
    "\n",
    "import sys\n",
    "import numpy as np\n",
    "from sklearn.neighbors import KNeighborsClassifier\n",
    "from sklearn.metrics import confusion_matrix\n",
    "from sklearn.metrics import classification_report\n",
    "from sklearn import preprocessing\n",
    "from sklearn.model_selection import train_test_split\n",
    "from sklearn.preprocessing import normalize\n",
    "from sklearn.metrics import f1_score"
   ]
  },
  {
   "cell_type": "code",
   "execution_count": 474,
   "metadata": {
    "scrolled": true
   },
   "outputs": [],
   "source": [
    "path = \"../ex01_repr/features.txt\""
   ]
  },
  {
   "cell_type": "code",
   "execution_count": 494,
   "metadata": {
    "scrolled": true
   },
   "outputs": [
    {
     "name": "stdout",
     "output_type": "stream",
     "text": [
      "Loading data...\n"
     ]
    }
   ],
   "source": [
    "print (\"Loading data...\")\n",
    "data = np.loadtxt(path)\n",
    "X_data = data[:, 0:len(data[0])-1]\n",
    "y_data = data[:,len(data[0])-1]\n",
    "X_data = normalize(X_data)"
   ]
  },
  {
   "cell_type": "code",
   "execution_count": 495,
   "metadata": {
    "scrolled": true
   },
   "outputs": [
    {
     "name": "stdout",
     "output_type": "stream",
     "text": [
      "Spliting data...\n"
     ]
    }
   ],
   "source": [
    "print (\"Spliting data...\")\n",
    "X_train, X_test, y_train, y_test =  train_test_split(X_data, y_data, test_size=0.3, random_state = 5)"
   ]
  },
  {
   "cell_type": "code",
   "execution_count": 496,
   "metadata": {},
   "outputs": [],
   "source": [
    "# cria um kNN\n",
    "neigh = KNeighborsClassifier(n_neighbors=3, metric='l1')"
   ]
  },
  {
   "cell_type": "code",
   "execution_count": 498,
   "metadata": {},
   "outputs": [
    {
     "name": "stdout",
     "output_type": "stream",
     "text": [
      "Fitting knn\n"
     ]
    },
    {
     "data": {
      "text/html": [
       "<style>#sk-container-id-150 {color: black;background-color: white;}#sk-container-id-150 pre{padding: 0;}#sk-container-id-150 div.sk-toggleable {background-color: white;}#sk-container-id-150 label.sk-toggleable__label {cursor: pointer;display: block;width: 100%;margin-bottom: 0;padding: 0.3em;box-sizing: border-box;text-align: center;}#sk-container-id-150 label.sk-toggleable__label-arrow:before {content: \"▸\";float: left;margin-right: 0.25em;color: #696969;}#sk-container-id-150 label.sk-toggleable__label-arrow:hover:before {color: black;}#sk-container-id-150 div.sk-estimator:hover label.sk-toggleable__label-arrow:before {color: black;}#sk-container-id-150 div.sk-toggleable__content {max-height: 0;max-width: 0;overflow: hidden;text-align: left;background-color: #f0f8ff;}#sk-container-id-150 div.sk-toggleable__content pre {margin: 0.2em;color: black;border-radius: 0.25em;background-color: #f0f8ff;}#sk-container-id-150 input.sk-toggleable__control:checked~div.sk-toggleable__content {max-height: 200px;max-width: 100%;overflow: auto;}#sk-container-id-150 input.sk-toggleable__control:checked~label.sk-toggleable__label-arrow:before {content: \"▾\";}#sk-container-id-150 div.sk-estimator input.sk-toggleable__control:checked~label.sk-toggleable__label {background-color: #d4ebff;}#sk-container-id-150 div.sk-label input.sk-toggleable__control:checked~label.sk-toggleable__label {background-color: #d4ebff;}#sk-container-id-150 input.sk-hidden--visually {border: 0;clip: rect(1px 1px 1px 1px);clip: rect(1px, 1px, 1px, 1px);height: 1px;margin: -1px;overflow: hidden;padding: 0;position: absolute;width: 1px;}#sk-container-id-150 div.sk-estimator {font-family: monospace;background-color: #f0f8ff;border: 1px dotted black;border-radius: 0.25em;box-sizing: border-box;margin-bottom: 0.5em;}#sk-container-id-150 div.sk-estimator:hover {background-color: #d4ebff;}#sk-container-id-150 div.sk-parallel-item::after {content: \"\";width: 100%;border-bottom: 1px solid gray;flex-grow: 1;}#sk-container-id-150 div.sk-label:hover label.sk-toggleable__label {background-color: #d4ebff;}#sk-container-id-150 div.sk-serial::before {content: \"\";position: absolute;border-left: 1px solid gray;box-sizing: border-box;top: 0;bottom: 0;left: 50%;z-index: 0;}#sk-container-id-150 div.sk-serial {display: flex;flex-direction: column;align-items: center;background-color: white;padding-right: 0.2em;padding-left: 0.2em;position: relative;}#sk-container-id-150 div.sk-item {position: relative;z-index: 1;}#sk-container-id-150 div.sk-parallel {display: flex;align-items: stretch;justify-content: center;background-color: white;position: relative;}#sk-container-id-150 div.sk-item::before, #sk-container-id-150 div.sk-parallel-item::before {content: \"\";position: absolute;border-left: 1px solid gray;box-sizing: border-box;top: 0;bottom: 0;left: 50%;z-index: -1;}#sk-container-id-150 div.sk-parallel-item {display: flex;flex-direction: column;z-index: 1;position: relative;background-color: white;}#sk-container-id-150 div.sk-parallel-item:first-child::after {align-self: flex-end;width: 50%;}#sk-container-id-150 div.sk-parallel-item:last-child::after {align-self: flex-start;width: 50%;}#sk-container-id-150 div.sk-parallel-item:only-child::after {width: 0;}#sk-container-id-150 div.sk-dashed-wrapped {border: 1px dashed gray;margin: 0 0.4em 0.5em 0.4em;box-sizing: border-box;padding-bottom: 0.4em;background-color: white;}#sk-container-id-150 div.sk-label label {font-family: monospace;font-weight: bold;display: inline-block;line-height: 1.2em;}#sk-container-id-150 div.sk-label-container {text-align: center;}#sk-container-id-150 div.sk-container {/* jupyter's `normalize.less` sets `[hidden] { display: none; }` but bootstrap.min.css set `[hidden] { display: none !important; }` so we also need the `!important` here to be able to override the default hidden behavior on the sphinx rendered scikit-learn.org. See: https://github.com/scikit-learn/scikit-learn/issues/21755 */display: inline-block !important;position: relative;}#sk-container-id-150 div.sk-text-repr-fallback {display: none;}</style><div id=\"sk-container-id-150\" class=\"sk-top-container\"><div class=\"sk-text-repr-fallback\"><pre>KNeighborsClassifier(metric=&#x27;l1&#x27;, n_neighbors=3)</pre><b>In a Jupyter environment, please rerun this cell to show the HTML representation or trust the notebook. <br />On GitHub, the HTML representation is unable to render, please try loading this page with nbviewer.org.</b></div><div class=\"sk-container\" hidden><div class=\"sk-item\"><div class=\"sk-estimator sk-toggleable\"><input class=\"sk-toggleable__control sk-hidden--visually\" id=\"sk-estimator-id-150\" type=\"checkbox\" checked><label for=\"sk-estimator-id-150\" class=\"sk-toggleable__label sk-toggleable__label-arrow\">KNeighborsClassifier</label><div class=\"sk-toggleable__content\"><pre>KNeighborsClassifier(metric=&#x27;l1&#x27;, n_neighbors=3)</pre></div></div></div></div></div>"
      ],
      "text/plain": [
       "KNeighborsClassifier(metric='l1', n_neighbors=3)"
      ]
     },
     "execution_count": 498,
     "metadata": {},
     "output_type": "execute_result"
    }
   ],
   "source": [
    "print ('Fitting knn')\n",
    "neigh.fit(X_train, y_train)"
   ]
  },
  {
   "cell_type": "code",
   "execution_count": 499,
   "metadata": {},
   "outputs": [
    {
     "name": "stdout",
     "output_type": "stream",
     "text": [
      "Predicting...\n"
     ]
    }
   ],
   "source": [
    "# predicao do classificador\n",
    "print ('Predicting...')\n",
    "y_pred = neigh.predict(X_test)"
   ]
  },
  {
   "cell_type": "code",
   "execution_count": 500,
   "metadata": {},
   "outputs": [
    {
     "name": "stdout",
     "output_type": "stream",
     "text": [
      "Accuracy:  0.9283333333333333\n"
     ]
    }
   ],
   "source": [
    "# mostra o resultado do classificador na base de teste\n",
    "print ('Accuracy: ',  neigh.score(X_test, y_test))"
   ]
  },
  {
   "cell_type": "code",
   "execution_count": 493,
   "metadata": {
    "scrolled": false
   },
   "outputs": [
    {
     "name": "stdout",
     "output_type": "stream",
     "text": [
      "[[54  0  0  0  0  1  0  0  0  0]\n",
      " [ 0 50  0  0  0  0  0  0  0  0]\n",
      " [ 1  3 59  1  0  0  0  1  0  1]\n",
      " [ 0  0  0 68  0  0  0  0  0  0]\n",
      " [ 0  5  1  0 54  0  0  0  0  0]\n",
      " [ 1  0  0  3  0 52  0  0  0  0]\n",
      " [ 2  1  0  0  1  1 61  0  0  0]\n",
      " [ 0  1  0  0  0  0  0 54  0  1]\n",
      " [ 0  1  1  3  0  2  1  0 43  1]\n",
      " [ 0  0  0  0  3  0  0  6  0 62]]\n",
      "              precision    recall  f1-score   support\n",
      "\n",
      "         0.0       0.93      0.98      0.96        55\n",
      "         1.0       0.82      1.00      0.90        50\n",
      "         2.0       0.97      0.89      0.93        66\n",
      "         3.0       0.91      1.00      0.95        68\n",
      "         4.0       0.93      0.90      0.92        60\n",
      "         5.0       0.93      0.93      0.93        56\n",
      "         6.0       0.98      0.92      0.95        66\n",
      "         7.0       0.89      0.96      0.92        56\n",
      "         8.0       1.00      0.83      0.91        52\n",
      "         9.0       0.95      0.87      0.91        71\n",
      "\n",
      "    accuracy                           0.93       600\n",
      "   macro avg       0.93      0.93      0.93       600\n",
      "weighted avg       0.93      0.93      0.93       600\n",
      "\n"
     ]
    }
   ],
   "source": [
    "# cria a matriz de confusao\n",
    "cm = confusion_matrix(y_test, y_pred)\n",
    "print (cm)\n",
    "print(classification_report(y_test, y_pred))"
   ]
  },
  {
   "cell_type": "code",
   "execution_count": 526,
   "metadata": {
    "scrolled": false
   },
   "outputs": [
    {
     "name": "stdout",
     "output_type": "stream",
     "text": [
      "Spliting data...\n",
      "Fitting knn\n",
      "Predicting...\n",
      "Spliting data...\n",
      "Fitting knn\n",
      "Predicting...\n",
      "Spliting data...\n",
      "Fitting knn\n",
      "Predicting...\n",
      "Spliting data...\n",
      "Fitting knn\n",
      "Predicting...\n",
      "Spliting data...\n",
      "Fitting knn\n",
      "Predicting...\n",
      "Accuracy:  0.923\n",
      "[[0.99 0.   0.   0.   0.   0.01 0.   0.   0.   0.  ]\n",
      " [0.   0.99 0.01 0.   0.   0.   0.   0.   0.   0.  ]\n",
      " [0.   0.02 0.9  0.   0.   0.   0.   0.05 0.01 0.  ]\n",
      " [0.   0.   0.   0.96 0.   0.02 0.   0.01 0.01 0.  ]\n",
      " [0.   0.08 0.   0.   0.89 0.   0.   0.   0.   0.02]\n",
      " [0.   0.01 0.   0.04 0.   0.91 0.01 0.01 0.   0.01]\n",
      " [0.02 0.   0.   0.   0.   0.   0.98 0.   0.   0.  ]\n",
      " [0.   0.02 0.   0.   0.01 0.   0.   0.94 0.   0.03]\n",
      " [0.02 0.04 0.01 0.08 0.01 0.01 0.   0.   0.8  0.02]\n",
      " [0.   0.01 0.   0.   0.02 0.   0.   0.08 0.   0.88]]\n",
      "F1 score:  0.9227894404205029\n"
     ]
    }
   ],
   "source": [
    "num_iter = 5\n",
    "acc = 0\n",
    "sum_cm = np.zeros((10, 10))\n",
    "f1 = 0\n",
    "for i in range(num_iter):\n",
    "    print (\"Spliting data...\")\n",
    "    X_train, X_test, y_train, y_test =  train_test_split(X_data, y_data, test_size=0.3)\n",
    "\n",
    "    # cria um kNN\n",
    "    neigh = KNeighborsClassifier(n_neighbors=3, metric='l1')\n",
    "\n",
    "    print ('Fitting knn')\n",
    "    neigh.fit(X_train, y_train)\n",
    "\n",
    "    # predicao do classificador\n",
    "    print ('Predicting...')\n",
    "    y_pred = neigh.predict(X_test)\n",
    "\n",
    "    # mostra o resultado do classificador na base de teste\n",
    "    acc += neigh.score(X_test, y_test)\n",
    "\n",
    "    # cria a matriz de confusao\n",
    "    cm = confusion_matrix(y_test, y_pred)\n",
    "    sum_cm += cm\n",
    "    \n",
    "    f1 += f1_score(y_test, y_pred, average='weighted')\n",
    "    \n",
    "print ('Accuracy: ', acc/num_iter)\n",
    "print(np.around(sum_cm.astype('float') / sum_cm.sum(axis=1)[:, np.newaxis], decimals=2))\n",
    "print('F1 score: ', f1/num_iter)"
   ]
  },
  {
   "cell_type": "code",
   "execution_count": null,
   "metadata": {},
   "outputs": [],
   "source": []
  }
 ],
 "metadata": {
  "kernelspec": {
   "display_name": "Python 3",
   "language": "python",
   "name": "python3"
  },
  "language_info": {
   "codemirror_mode": {
    "name": "ipython",
    "version": 3
   },
   "file_extension": ".py",
   "mimetype": "text/x-python",
   "name": "python",
   "nbconvert_exporter": "python",
   "pygments_lexer": "ipython3",
   "version": "3.8.10"
  }
 },
 "nbformat": 4,
 "nbformat_minor": 5
}
