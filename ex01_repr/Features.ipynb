{
 "cells": [
  {
   "cell_type": "code",
   "execution_count": 1,
   "id": "fb696d27",
   "metadata": {
    "scrolled": true
   },
   "outputs": [
    {
     "name": "stdout",
     "output_type": "stream",
     "text": [
      "Requirement already satisfied: opencv-python in /nobackup/bcc/ppa19/lib/python3.9/site-packages (4.8.0.76)\n",
      "Requirement already satisfied: numpy>=1.17.3 in /nobackup/bcc/ppa19/lib/python3.9/site-packages (from opencv-python) (1.22.0)\n"
     ]
    }
   ],
   "source": [
    "!pip install opencv-python"
   ]
  },
  {
   "cell_type": "code",
   "execution_count": 3,
   "id": "3648781a",
   "metadata": {},
   "outputs": [],
   "source": [
    "# Pra rodar em casa\n",
    "import sys\n",
    "sys.path.append(\"/home/pedro/miniconda3/lib/python3.9/site-packages\")"
   ]
  },
  {
   "cell_type": "code",
   "execution_count": 2,
   "id": "3cf9f006",
   "metadata": {},
   "outputs": [
    {
     "name": "stdout",
     "output_type": "stream",
     "text": [
      "40 42\n",
      "........................1111111111........\n",
      "...................1111111111111111.......\n",
      "..................111111111111111111......\n",
      "................111111111111111111111.....\n",
      "...............11111111111111111111111111.\n",
      ".............11111111111........1111111111\n",
      "............1111111111..........1111111111\n",
      "............11111111...........1111111111.\n",
      "...........11111111.........111111111111..\n",
      "...........111111........111111111111.....\n",
      "...........111111........11111111111......\n",
      "...........11111......111111111111........\n",
      "..........111111.....1111111111...........\n",
      "..........111111...1111111111.............\n",
      "..........1111111.1111111111..............\n",
      "..........111111111111111.................\n",
      "...........1111111111111..................\n",
      "...........11111111111....................\n",
      "...........1111111111.....................\n",
      "...........11111111.......................\n",
      "..........111111111.......................\n",
      "..........111111111.......................\n",
      "........11111111111.......................\n",
      ".......111111111111.......................\n",
      ".......111111111111.......................\n",
      "......1111111111111.......................\n",
      "....111111...111111.......................\n",
      "....111111...1111111......................\n",
      "...111111....1111111......................\n",
      "..111111.....1111111......................\n",
      ".111111......1111111......................\n",
      ".111111......111111.......................\n",
      ".11111.......111111.......................\n",
      "111111......111111........................\n",
      "11111.....11111111........................\n",
      "1111111.111111111.........................\n",
      "1111111111111111..........................\n",
      ".1111111111111............................\n",
      ".111111111111.............................\n",
      "..11111111................................\n"
     ]
    }
   ],
   "source": [
    "import cv2\n",
    "\n",
    "image = cv2.imread('img.jpg', 0)\n",
    "h, w = image.shape\n",
    "print (h, w)\n",
    "\n",
    "for i in range(h):\n",
    "    for j in range(w):\n",
    "        if( image[i][j] > 128):\n",
    "            print ('.', end='')\n",
    "        else:\n",
    "            print ('1', end='')\n",
    "    print('\\n', end='')\n",
    "\n"
   ]
  },
  {
   "cell_type": "code",
   "execution_count": 3,
   "id": "0b4f5ff8",
   "metadata": {},
   "outputs": [],
   "source": [
    "import matplotlib.pyplot as plt"
   ]
  },
  {
   "cell_type": "code",
   "execution_count": 4,
   "id": "96bed713",
   "metadata": {},
   "outputs": [],
   "source": [
    "def horizontal_histogram(image):\n",
    "    h, w = image.shape\n",
    "    hist = [0] * h\n",
    "    for i in range(h):\n",
    "        for j in range(w):\n",
    "            if image[i][j] <= 128:\n",
    "                hist[i] += 1\n",
    "    return hist"
   ]
  },
  {
   "cell_type": "code",
   "execution_count": 5,
   "id": "4c4818e0",
   "metadata": {},
   "outputs": [
    {
     "data": {
      "image/png": "[encoded data removed]",
      "text/plain": [
       "<Figure size 640x480 with 1 Axes>"
      ]
     },
     "metadata": {},
     "output_type": "display_data"
    }
   ],
   "source": [
    "plt.barh(range(h), horizontal_histogram(image))\n",
    "plt.gca().invert_yaxis()\n",
    "plt.title(\"Horizontal Histogram\")\n",
    "plt.show()"
   ]
  },
  {
   "cell_type": "code",
   "execution_count": 6,
   "id": "04a29547",
   "metadata": {},
   "outputs": [],
   "source": [
    "def vertical_histogram(image):\n",
    "    h, w = image.shape\n",
    "    hist = [0] * w\n",
    "    for i in range(w):\n",
    "        for j in range(h):\n",
    "            if image[j][i] <= 128:\n",
    "                hist[i] += 1\n",
    "    return hist"
   ]
  },
  {
   "cell_type": "code",
   "execution_count": 7,
   "id": "65c60a1b",
   "metadata": {},
   "outputs": [
    {
     "data": {
      "image/png": "[encoded data removed]",
      "text/plain": [
       "<Figure size 640x480 with 1 Axes>"
      ]
     },
     "metadata": {},
     "output_type": "display_data"
    }
   ],
   "source": [
    "plt.bar(range(w), vertical_histogram(image))\n",
    "plt.show()"
   ]
  },
  {
   "cell_type": "code",
   "execution_count": null,
   "id": "cabe786b",
   "metadata": {},
   "outputs": [],
   "source": [
    "def conv(image, kernel):\n",
    "    h, w = image.shape\n",
    "    new_image = []\n",
    "    for i in range(h):\n",
    "        new_image.append([])\n",
    "        for j in range(w):\n",
    "            new_value = 0\n",
    "            new_value += kernel[1][1] * image[i][j]\n",
    "            if i != h-1:\n",
    "                new_value += kernel[2][1] * image[i+1][j]\n",
    "            if j != w-1:            \n",
    "                new_value += kernel[1][2] * image[i][j+1]\n",
    "            if i != h-1 and j != w-1:\n",
    "                new_value += kernel[2][2] * image[i+1][j+1]\n",
    "            if j >= 1:\n",
    "                new_value += kernel[1][0] * image[i][j-1]\n",
    "                if i != h-1:\n",
    "                    new_value += kernel[2][0] * image[i+1][j-1]\n",
    "            if i >= 1:\n",
    "                new_value += kernel[0][1] * image[i-1][j]\n",
    "                if j != w-1:\n",
    "                    new_value += kernel[0][2] * image[i-1][j+1]\n",
    "            if i >= 1 and j >= 1:\n",
    "                new_value += kernel[0][0] * image[i-1][j-1]\n",
    "            if new_value > 255:\n",
    "                new_value = 255\n",
    "            if new_value < 0:\n",
    "                new_value = 0\n",
    "            new_image[i].append(new_value)\n",
    "    return new_image"
   ]
  },
  {
   "cell_type": "code",
   "execution_count": null,
   "id": "968f9c98",
   "metadata": {},
   "outputs": [],
   "source": [
    "kernel = [[-1, -1, -1], [0, 0, 0], [1, 1, 1]]\n",
    "convoluted_img = conv(image, kernel)"
   ]
  },
  {
   "cell_type": "code",
   "execution_count": null,
   "id": "e9301824",
   "metadata": {},
   "outputs": [],
   "source": [
    "kernel = [[-1, 0, 1], [-1, 0, 1], [-1, 0, 1]]\n",
    "convoluted_img = conv(image, kernel)"
   ]
  },
  {
   "cell_type": "code",
   "execution_count": null,
   "id": "9127659b",
   "metadata": {},
   "outputs": [],
   "source": [
    "for i in range(h):\n",
    "    for j in range(w):\n",
    "        if( convoluted_img[i][j] <= 128):\n",
    "            print ('.', end='')\n",
    "        else:\n",
    "            print ('1', end='')\n",
    "    print('\\n', end='')"
   ]
  },
  {
   "cell_type": "code",
   "execution_count": null,
   "id": "6f5a00e0",
   "metadata": {},
   "outputs": [],
   "source": [
    "cv2.imshow(\"img\", horizontal_conv(image))\n",
    "cv2.waitKey(0)"
   ]
  },
  {
   "cell_type": "code",
   "execution_count": null,
   "id": "5186f028",
   "metadata": {},
   "outputs": [],
   "source": [
    "image.shape"
   ]
  },
  {
   "cell_type": "code",
   "execution_count": 11,
   "id": "1bb45426",
   "metadata": {},
   "outputs": [
    {
     "data": {
      "text/plain": [
       "array([[255, 254, 253, ..., 254, 255, 254],\n",
       "       [255, 254, 254, ..., 254, 254, 252],\n",
       "       [255, 252, 253, ..., 254, 254, 254],\n",
       "       ...,\n",
       "       [255, 255, 255, ..., 253, 252, 255],\n",
       "       [255, 255, 255, ..., 254, 255, 254],\n",
       "       [255, 255, 255, ..., 254, 253, 254]], dtype=uint8)"
      ]
     },
     "execution_count": 11,
     "metadata": {},
     "output_type": "execute_result"
    }
   ],
   "source": [
    "cv2.resize(image, (40, 40))"
   ]
  },
  {
   "cell_type": "code",
   "execution_count": null,
   "id": "9d7f3120",
   "metadata": {},
   "outputs": [],
   "source": []
  },
  {
   "cell_type": "code",
   "execution_count": 16,
   "id": "4e843899",
   "metadata": {},
   "outputs": [
    {
     "ename": "SyntaxError",
     "evalue": "invalid syntax (2350983388.py, line 11)",
     "output_type": "error",
     "traceback": [
      "\u001b[0;36m  Cell \u001b[0;32mIn[16], line 11\u001b[0;36m\u001b[0m\n\u001b[0;31m    features[i].append(' '.join(str(e) for e in vertical_histogram(image))\u001b[0m\n\u001b[0m    ^\u001b[0m\n\u001b[0;31mSyntaxError\u001b[0m\u001b[0;31m:\u001b[0m invalid syntax\n"
     ]
    }
   ],
   "source": [
    "f = open(\"digits/files.txt\", \"r\")\n",
    "count = 0\n",
    "features = []\n",
    "i = 0\n",
    "for x in f:\n",
    "    features.append([])\n",
    "    image = cv2.imread(\"digits/\" + x.split()[0], 0)\n",
    "    image = cv2.resize(image, (40, 40))\n",
    "    h, w = image.shape\n",
    "    features[i].append(' '.join(str(e) for e in horizontal_histogram(image))\n",
    "    features[i].append(' '.join(str(e) for e in vertical_histogram(image))\n",
    "    features[i].append(str(x.split()[1]))\n",
    "    #    for i in range(h):\n",
    "    #        for j in range(w):\n",
    "    #            if( image[i][j] > 128):\n",
    "    #                print ('.', end='')\n",
    "    #            else:\n",
    "    #                print ('1', end='')\n",
    "    #        print('\\n', end='')\n",
    "    count += 1\n",
    "    #print(x.split()[0])\n",
    "    #print(x.split()[1])\n"
   ]
  },
  {
   "cell_type": "code",
   "execution_count": 15,
   "id": "0d2717b9",
   "metadata": {},
   "outputs": [
    {
     "data": {
      "text/plain": [
       "'9 20 25 31 29 22 19 18 17 15 16 18 19 23 26 26 29 27 18 8 7 8 8 8 7 8 8 6 7 6 6 6 6 8 6 6 7 8 12 6'"
      ]
     },
     "execution_count": 15,
     "metadata": {},
     "output_type": "execute_result"
    }
   ],
   "source": [
    "' '.join(str(ele) for ele in horizontal_histogram(image))"
   ]
  },
  {
   "cell_type": "code",
   "execution_count": null,
   "id": "4cc80de2",
   "metadata": {},
   "outputs": [],
   "source": [
    "data[1]"
   ]
  },
  {
   "cell_type": "code",
   "execution_count": null,
   "id": "1eb416ca",
   "metadata": {},
   "outputs": [],
   "source": []
  }
 ],
 "metadata": {
  "kernelspec": {
   "display_name": "Python 3 (ipykernel)",
   "language": "python",
   "name": "python3"
  },
  "language_info": {
   "codemirror_mode": {
    "name": "ipython",
    "version": 3
   },
   "file_extension": ".py",
   "mimetype": "text/x-python",
   "name": "python",
   "nbconvert_exporter": "python",
   "pygments_lexer": "ipython3",
   "version": "3.9.2"
  }
 },
 "nbformat": 4,
 "nbformat_minor": 5
}
