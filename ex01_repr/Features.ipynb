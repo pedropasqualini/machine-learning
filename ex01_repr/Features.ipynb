{
 "cells": [
  {
   "cell_type": "code",
   "execution_count": 111,
   "metadata": {
    "scrolled": true
   },
   "outputs": [
    {
     "name": "stdout",
     "output_type": "stream",
     "text": [
      "Requirement already satisfied: opencv-python in /home/pedro/miniconda3/lib/python3.9/site-packages (4.8.0.76)\n",
      "Requirement already satisfied: numpy>=1.17.0 in /home/pedro/miniconda3/lib/python3.9/site-packages (from opencv-python) (1.23.3)\n"
     ]
    }
   ],
   "source": [
    "!pip install opencv-python"
   ]
  },
  {
   "cell_type": "code",
   "execution_count": 112,
   "metadata": {},
   "outputs": [],
   "source": [
    "# Pra rodar em casa\n",
    "import sys\n",
    "sys.path.append(\"/home/pedro/miniconda3/lib/python3.9/site-packages\")"
   ]
  },
  {
   "cell_type": "code",
   "execution_count": 205,
   "metadata": {},
   "outputs": [],
   "source": [
    "from sklearn.preprocessing import normalize\n",
    "import numpy as np\n",
    "from scipy import signal\n"
   ]
  },
  {
   "cell_type": "code",
   "execution_count": 176,
   "metadata": {
    "scrolled": false
   },
   "outputs": [
    {
     "name": "stdout",
     "output_type": "stream",
     "text": [
      "40 42\n",
      "........................1111111111........\n",
      "...................1111111111111111.......\n",
      "..................111111111111111111......\n",
      "................111111111111111111111.....\n",
      "...............11111111111111111111111111.\n",
      ".............11111111111........1111111111\n",
      "............1111111111..........1111111111\n",
      "............11111111...........1111111111.\n",
      "...........11111111.........111111111111..\n",
      "...........111111........111111111111.....\n",
      "...........111111........11111111111......\n",
      "...........11111......111111111111........\n",
      "..........111111.....1111111111...........\n",
      "..........111111...1111111111.............\n",
      "..........1111111.1111111111..............\n",
      "..........111111111111111.................\n",
      "...........1111111111111..................\n",
      "...........11111111111....................\n",
      "...........1111111111.....................\n",
      "...........11111111.......................\n",
      "..........111111111.......................\n",
      "..........111111111.......................\n",
      "........11111111111.......................\n",
      ".......111111111111.......................\n",
      ".......111111111111.......................\n",
      "......1111111111111.......................\n",
      "....111111...111111.......................\n",
      "....111111...1111111......................\n",
      "...111111....1111111......................\n",
      "..111111.....1111111......................\n",
      ".111111......1111111......................\n",
      ".111111......111111.......................\n",
      ".11111.......111111.......................\n",
      "111111......111111........................\n",
      "11111.....11111111........................\n",
      "1111111.111111111.........................\n",
      "1111111111111111..........................\n",
      ".1111111111111............................\n",
      ".111111111111.............................\n",
      "..11111111................................\n"
     ]
    }
   ],
   "source": [
    "import cv2\n",
    "\n",
    "image = cv2.imread('img.jpg', 0)\n",
    "h, w = image.shape\n",
    "print (h, w)\n",
    "\n",
    "for i in range(h):\n",
    "    for j in range(w):\n",
    "        if( image[i][j] > 128):\n",
    "            print ('.', end='')\n",
    "        else:\n",
    "            print ('1', end='')\n",
    "    print('\\n', end='')\n",
    "\n"
   ]
  },
  {
   "cell_type": "code",
   "execution_count": 132,
   "metadata": {},
   "outputs": [],
   "source": [
    "def convolve2D(image, kernel, padding=0, strides=1):\n",
    "    # Cross Correlation\n",
    "    kernel = np.flipud(np.fliplr(kernel))\n",
    "\n",
    "    # Gather Shapes of Kernel + Image + Padding\n",
    "    xKernShape = kernel.shape[0]\n",
    "    yKernShape = kernel.shape[1]\n",
    "    xImgShape = image.shape[0]\n",
    "    yImgShape = image.shape[1]\n",
    "\n",
    "    # Shape of Output Convolution\n",
    "    xOutput = int(((xImgShape - xKernShape + 2 * padding) / strides) + 1)\n",
    "    yOutput = int(((yImgShape - yKernShape + 2 * padding) / strides) + 1)\n",
    "    output = np.zeros((xOutput, yOutput))\n",
    "\n",
    "    # Apply Equal Padding to All Sides\n",
    "    if padding != 0:\n",
    "        imagePadded = np.zeros((image.shape[0] + padding*2, image.shape[1] + padding*2))\n",
    "        imagePadded[int(padding):int(-1 * padding), int(padding):int(-1 * padding)] = image\n",
    "        print(imagePadded)\n",
    "    else:\n",
    "        imagePadded = image\n",
    "\n",
    "    # Iterate through image\n",
    "    for y in range(image.shape[1]):\n",
    "        # Exit Convolution\n",
    "        if y > image.shape[1] - yKernShape:\n",
    "            break\n",
    "        # Only Convolve if y has gone down by the specified Strides\n",
    "        if y % strides == 0:\n",
    "            for x in range(image.shape[0]):\n",
    "                # Go to next row once kernel is out of bounds\n",
    "                if x > image.shape[0] - xKernShape:\n",
    "                    break\n",
    "                try:\n",
    "                    # Only Convolve if x has moved by the specified Strides\n",
    "                    if x % strides == 0:\n",
    "                        output[x, y] = (kernel * imagePadded[x: x + xKernShape, y: y + yKernShape]).sum()\n",
    "                except:\n",
    "                    break\n",
    "\n",
    "    return cv2.resize(output, (40, 40))"
   ]
  },
  {
   "cell_type": "code",
   "execution_count": 202,
   "metadata": {},
   "outputs": [],
   "source": [
    "def gaussian_kernel(n, std, normalised=False):\n",
    "    '''\n",
    "    Generates a n x n matrix with a centered gaussian \n",
    "    of standard deviation std centered on it. If normalised,\n",
    "    its volume equals 1.'''\n",
    "    gaussian1D = signal.gaussian(n, std)\n",
    "    gaussian2D = np.outer(gaussian1D, gaussian1D)\n",
    "    if normalised:\n",
    "        gaussian2D /= (2*np.pi*(std**2))\n",
    "    return gaussian2D"
   ]
  },
  {
   "cell_type": "code",
   "execution_count": 206,
   "metadata": {
    "scrolled": true
   },
   "outputs": [],
   "source": [
    "gaussian = gaussian_kernel(5, 1)"
   ]
  },
  {
   "cell_type": "code",
   "execution_count": 208,
   "metadata": {},
   "outputs": [],
   "source": [
    "kernel_1 = [[-1, 0, 1], [-1, 0, 1], [-1, 0, 1]]\n",
    "kernel_2 = [[-1, -1, -1], [0, 0, 0], [1, 1, 1]]\n",
    "kernel_3 = [[1, 1, 1], [0, 0, 0], [-1, -1, -1]]\n",
    "kernel_4 = [[1, 0, -1], [1, 0, -1], [1, 0, -1]]\n",
    "kernel_5 = [[0, -1, 0], [-1, 5, -1], [0, -1, 0]]\n",
    "kernel_6 = gaussian"
   ]
  },
  {
   "cell_type": "code",
   "execution_count": 209,
   "metadata": {},
   "outputs": [],
   "source": [
    "image_conv = convolve2D(image, kernel_6)"
   ]
  },
  {
   "cell_type": "code",
   "execution_count": 210,
   "metadata": {
    "scrolled": false
   },
   "outputs": [
    {
     "name": "stdout",
     "output_type": "stream",
     "text": [
      "40 40\n",
      "...................111111111111111......\n",
      "..................1111111111111111......\n",
      ".................11111..........111.....\n",
      "...............11111.............1111...\n",
      "..............11111..............1111111\n",
      ".............1111................111111.\n",
      "............1111................11111...\n",
      "...........1111................1111.....\n",
      "...........111...............11111......\n",
      "...........111............111111........\n",
      "...........11............1111...........\n",
      "...........11..........11111............\n",
      "..........111........11111..............\n",
      "..........1111......1111................\n",
      "..........1111....1111..................\n",
      "...........11111.1111...................\n",
      "...........111111111....................\n",
      "...........1111111......................\n",
      "...........111111.......................\n",
      "...........111111.......................\n",
      "..........111111........................\n",
      "..........111111........................\n",
      ".........1111111........................\n",
      "........11111111........................\n",
      ".......111111111........................\n",
      ".......1....1111........................\n",
      "......1......111........................\n",
      ".....11......1111.......................\n",
      "....11.......1111.......................\n",
      "...11........1111.......................\n",
      "..11.........1111.......................\n",
      ".111.........1111.......................\n",
      ".11..........1111.......................\n",
      "111..........111........................\n",
      "111..........111........................\n",
      "11..........111.........................\n",
      "11.........111..........................\n",
      "111......1111...........................\n",
      "1111...1111.............................\n",
      "1111111111..............................\n"
     ]
    }
   ],
   "source": [
    "h, w = image_conv.shape\n",
    "print (h, w)\n",
    "\n",
    "for i in range(h):\n",
    "    for j in range(w):\n",
    "        if( image_conv[i][j] > 128):\n",
    "            print ('.', end='')\n",
    "        else:\n",
    "            print ('1', end='')\n",
    "    print('\\n', end='')"
   ]
  },
  {
   "cell_type": "code",
   "execution_count": 155,
   "metadata": {},
   "outputs": [],
   "source": [
    "import matplotlib.pyplot as plt"
   ]
  },
  {
   "cell_type": "code",
   "execution_count": 156,
   "metadata": {},
   "outputs": [],
   "source": [
    "def horizontal_histogram(image):\n",
    "    h, w = image.shape\n",
    "    hist = [0] * h\n",
    "    for i in range(h):\n",
    "        for j in range(w):\n",
    "            if image[i][j] <= 128:\n",
    "                hist[i] += 1\n",
    "    return hist"
   ]
  },
  {
   "cell_type": "code",
   "execution_count": 159,
   "metadata": {},
   "outputs": [],
   "source": [
    "def vertical_histogram(image):\n",
    "    h, w = image.shape\n",
    "    hist = [0] * w\n",
    "    for i in range(w):\n",
    "        for j in range(h):\n",
    "            if image[j][i] <= 128:\n",
    "                hist[i] += 1\n",
    "    return hist"
   ]
  },
  {
   "cell_type": "code",
   "execution_count": 214,
   "metadata": {},
   "outputs": [],
   "source": [
    "f = open(\"digits/files.txt\", \"r\")\n",
    "count = 0\n",
    "features = \"\"\n",
    "i = 0\n",
    "numeros = [0] * 10\n",
    "for x in f:\n",
    "    image = cv2.imread(\"digits/\" + x.split()[0], 0)\n",
    "    image = cv2.resize(image, (40, 40))\n",
    "    #conv_1 = convolve2D(image, kernel_1)\n",
    "    #conv_2 = convolve2D(image, kernel_2)\n",
    "    #conv_3 = convolve2D(image, kernel_3)\n",
    "    #conv_4 = convolve2D(image, kernel_4)\n",
    "    #conv_5 = convolve2D(image, kernel_5)\n",
    "    #conv_6 = convolve2D(image, kernel_6)\n",
    "    h, w = image.shape\n",
    "    \n",
    "    # histograms\n",
    "    #features += ' '.join(str(e) for e in horizontal_histogram(image)) + ' '\n",
    "    #features += ' '.join(str(e) for e in vertical_histogram(image)) + ' '\n",
    "    \n",
    "    # convolutions\n",
    "    #for ele in conv_1:\n",
    "    #    features += ' '.join(str(e) for e in ele) + ' '\n",
    "    #for ele in conv_2:\n",
    "    #    features += ' '.join(str(e) for e in ele) + ' '\n",
    "    #for ele in conv_3:\n",
    "    #    features += ' '.join(str(e) for e in ele) + ' '\n",
    "    #for ele in conv_4:\n",
    "    #    features += ' '.join(str(e) for e in ele) + ' '\n",
    "    #for ele in conv_5:\n",
    "    #    features += ' '.join(str(e) for e in ele) + ' '\n",
    "    #for ele in conv_6:\n",
    "    #    features += ' '.join(str(e) for e in ele) + ' '\n",
    "    \n",
    "    for ele in image:\n",
    "        features += ' '.join(str(e) for e in ele) + ' '\n",
    "    \n",
    "    features += str(x.split()[1])\n",
    "    features += '\\n'\n",
    "    numeros[int(x.split()[1])] += 1\n",
    "    #    for i in range(h):\n",
    "    #        for j in range(w):\n",
    "    #            if( image[i][j] > 128):\n",
    "    #                print ('.', end='')\n",
    "    #            else:\n",
    "    #                print ('1', end='')\n",
    "    #        print('\\n', end='')\n",
    "    count += 1\n",
    "    #print(x.split()[0])\n",
    "    #print(x.split()[1])\n"
   ]
  },
  {
   "cell_type": "code",
   "execution_count": 216,
   "metadata": {},
   "outputs": [],
   "source": [
    "file = open (\"features.txt\", \"w\")\n",
    "file.write(features)\n",
    "file.close()"
   ]
  },
  {
   "cell_type": "code",
   "execution_count": 58,
   "metadata": {},
   "outputs": [
    {
     "data": {
      "text/plain": [
       "[200, 200, 200, 200, 200, 200, 200, 200, 200, 200]"
      ]
     },
     "execution_count": 58,
     "metadata": {},
     "output_type": "execute_result"
    }
   ],
   "source": [
    "numeros"
   ]
  }
 ],
 "metadata": {
  "kernelspec": {
   "display_name": "Python 3",
   "language": "python",
   "name": "python3"
  },
  "language_info": {
   "codemirror_mode": {
    "name": "ipython",
    "version": 3
   },
   "file_extension": ".py",
   "mimetype": "text/x-python",
   "name": "python",
   "nbconvert_exporter": "python",
   "pygments_lexer": "ipython3",
   "version": "3.8.10"
  }
 },
 "nbformat": 4,
 "nbformat_minor": 5
}
